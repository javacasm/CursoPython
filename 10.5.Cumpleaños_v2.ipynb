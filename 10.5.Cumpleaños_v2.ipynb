{
 "cells": [
  {
   "cell_type": "markdown",
   "metadata": {},
   "source": [
    "# Paradoja del cumpleaños\n",
    "\n",
    "Vamos a calcular la probabilidad de que 2 personas cumplan años el mismo día"
   ]
  },
  {
   "cell_type": "code",
   "execution_count": 2,
   "metadata": {},
   "outputs": [],
   "source": [
    "np = 365*364/(365*365)"
   ]
  },
  {
   "cell_type": "code",
   "execution_count": 3,
   "metadata": {},
   "outputs": [
    {
     "data": {
      "text/plain": [
       "0.9972602739726028"
      ]
     },
     "execution_count": 3,
     "metadata": {},
     "output_type": "execute_result"
    }
   ],
   "source": [
    "np"
   ]
  },
  {
   "cell_type": "code",
   "execution_count": 4,
   "metadata": {},
   "outputs": [],
   "source": [
    "p = 1 - np"
   ]
  },
  {
   "cell_type": "code",
   "execution_count": 5,
   "metadata": {},
   "outputs": [
    {
     "data": {
      "text/plain": [
       "0.002739726027397249"
      ]
     },
     "execution_count": 5,
     "metadata": {},
     "output_type": "execute_result"
    }
   ],
   "source": [
    "p"
   ]
  },
  {
   "cell_type": "code",
   "execution_count": 6,
   "metadata": {},
   "outputs": [],
   "source": [
    "N = 22"
   ]
  },
  {
   "cell_type": "code",
   "execution_count": 7,
   "metadata": {},
   "outputs": [
    {
     "name": "stdout",
     "output_type": "stream",
     "text": [
      "0.4756953076625503\n"
     ]
    }
   ],
   "source": [
    "np = 1.0\n",
    "for i in range(0,N):\n",
    "    np *= (365-i)/365\n",
    "p = 1.0 - np\n",
    "print(p)"
   ]
  },
  {
   "cell_type": "code",
   "execution_count": 8,
   "metadata": {},
   "outputs": [
    {
     "name": "stdout",
     "output_type": "stream",
     "text": [
      "[0.0, 0.002739726027397249, 0.008204165884781345, 0.016355912466550215, 0.02713557369979347, 0.040462483649111425, 0.056235703095975365, 0.07433529235166902, 0.09462383388916673, 0.11694817771107768, 0.14114137832173312, 0.1670247888380645, 0.19441027523242949, 0.2231025120049731, 0.25290131976368646, 0.2836040052528501, 0.3150076652965609, 0.3469114178717896, 0.37911852603153695, 0.41143838358058027, 0.443688335165206, 0.4756953076625503, 0.5072972343239857, 0.538344257914529, 0.568699703969464, 0.598240820135939, 0.6268592822632421, 0.6544614723423995, 0.6809685374777771, 0.7063162427192688, 0.7304546337286439, 0.7533475278503208, 0.7749718541757721, 0.7953168646201543, 0.8143832388747153, 0.8321821063798795, 0.8487340082163846, 0.864067821082121, 0.878219664366722, 0.891231809817949, 0.9031516114817354, 0.9140304715618692, 0.9239228556561199, 0.9328853685514263, 0.940975899465775, 0.9482528433672548, 0.9547744028332994, 0.9605979728794225, 0.9657796093226765, 0.9703735795779884]\n"
     ]
    }
   ],
   "source": [
    "p = []\n",
    "for N in range(1,51):\n",
    "    np = 1.0\n",
    "    for i in range(0,N):\n",
    "        np *= (365-i)/365\n",
    "    p.append(1-np)\n",
    "print(p)     \n",
    "    "
   ]
  },
  {
   "cell_type": "code",
   "execution_count": 10,
   "metadata": {},
   "outputs": [
    {
     "data": {
      "image/png": "[encoded data removed]",
      "text/plain": [
       "<Figure size 432x288 with 1 Axes>"
      ]
     },
     "metadata": {
      "needs_background": "light"
     },
     "output_type": "display_data"
    }
   ],
   "source": [
    "import matplotlib.pyplot as plt\n",
    "plt.plot(p)\n",
    "plt.show()"
   ]
  },
  {
   "cell_type": "code",
   "execution_count": null,
   "metadata": {},
   "outputs": [],
   "source": []
  }
 ],
 "metadata": {
  "kernelspec": {
   "display_name": "Python 3",
   "language": "python",
   "name": "python3"
  },
  "language_info": {
   "codemirror_mode": {
    "name": "ipython",
    "version": 3
   },
   "file_extension": ".py",
   "mimetype": "text/x-python",
   "name": "python",
   "nbconvert_exporter": "python",
   "pygments_lexer": "ipython3",
   "version": "3.6.9"
  }
 },
 "nbformat": 4,
 "nbformat_minor": 4
}
